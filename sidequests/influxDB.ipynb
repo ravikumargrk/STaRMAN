{
 "cells": [
  {
   "cell_type": "code",
   "execution_count": 8,
   "metadata": {},
   "outputs": [],
   "source": [
    "IFD_TOKN = \"PPrBwtUvQCWRGBzfQa3TYgcuuFA9EYHJ7r3OKg4VhU9D1zM79oV07rBKxa_Hd-74TOzHKCTZK4S9SAypvo_VyA==\"\n",
    "IFD_ORGN = \"artica\"\n",
    "IFD_HOST = \"eu-central-1-1.aws.cloud2.influxdata.com\"\n",
    "IFD_ADDR = f\"https://{IFD_HOST}\"\n",
    "\n",
    "grafanaToken = \"HgPeKvrZrR75TnyDNPbkaMg2wMKRdX7wXPGttlI7-QUmei5dvfxXZD-tnHVpbSxXQNGUF2_U-o4z498qWMQLvw==\"\n",
    "\n",
    "import influxdb_client\n",
    "from influxdb_client.client.write_api import SYNCHRONOUS\n",
    "\n",
    "client = influxdb_client.InfluxDBClient(\n",
    "   url=IFD_ADDR,\n",
    "   token=IFD_TOKN,\n",
    "   org=IFD_ORGN\n",
    ")\n",
    "\n",
    "write_api = client.write_api(write_options=SYNCHRONOUS)"
   ]
  },
  {
   "cell_type": "code",
   "execution_count": null,
   "metadata": {},
   "outputs": [],
   "source": [
    "# 2023-03-18 17:37:40.807603965\n",
    "# 2023-03-18 17:37:46.291760032"
   ]
  },
  {
   "cell_type": "code",
   "execution_count": null,
   "metadata": {},
   "outputs": [],
   "source": [
    "#   _write_client.write(\n",
    "#       \"my-bucket\", \n",
    "#       \"my-org\", \n",
    "#       [\n",
    "#           {\n",
    "#               \"measurement\": \"data\", \n",
    "#               \"fields\": {\n",
    "#                   \"water_level\": 2.0\n",
    "#                } \n",
    "#           },\n",
    "#           {\n",
    "#               \"measurement\": \"data\", \n",
    "#               \"tags\": {\n",
    "#                   \"location\": \"coyote_creek\"\n",
    "#               },\n",
    "#               \"fields\": {\n",
    "#                   \"water_level\": 3.0\n",
    "#               }\n",
    "#           }\n",
    "#       ]\n",
    "#   )"
   ]
  },
  {
   "cell_type": "code",
   "execution_count": null,
   "metadata": {},
   "outputs": [],
   "source": [
    "# fields --> standardTag\n",
    "# measurement --> order-data-1"
   ]
  },
  {
   "cell_type": "code",
   "execution_count": 12,
   "metadata": {},
   "outputs": [],
   "source": [
    "import pandas as pd\n",
    "dataDf = pd.read_excel('DATA.xlsx')\n",
    "\n",
    "record1 = dataDf.to_dict(orient='records')[0]\n",
    "\n",
    "record1 = {key:record1[key] for key in record1 if key != 'time'}"
   ]
  },
  {
   "cell_type": "code",
   "execution_count": 13,
   "metadata": {},
   "outputs": [
    {
     "data": {
      "text/plain": [
       "{'measurement': 'orderId1',\n",
       " 'fields': {'PT2_7_SCALE_PV': 13.59,\n",
       "  'TOTALISE_FUEL_FLOW': 47432.05,\n",
       "  'TOTAL_STEAM': 424826.47,\n",
       "  'TE1_5_SCALE_PV': 103.0}}"
      ]
     },
     "execution_count": 13,
     "metadata": {},
     "output_type": "execute_result"
    }
   ],
   "source": [
    "data = {\n",
    "    'measurement': 'orderId1',\n",
    "    'fields'     : record1\n",
    "}\n",
    "\n",
    "data"
   ]
  },
  {
   "cell_type": "code",
   "execution_count": 14,
   "metadata": {},
   "outputs": [],
   "source": [
    "write_api.write(\n",
    "    'site-data',\n",
    "    IFD_ORGN,\n",
    "    [data]\n",
    ")"
   ]
  },
  {
   "cell_type": "code",
   "execution_count": null,
   "metadata": {},
   "outputs": [],
   "source": []
  }
 ],
 "metadata": {
  "kernelspec": {
   "display_name": "Python 3",
   "language": "python",
   "name": "python3"
  },
  "language_info": {
   "codemirror_mode": {
    "name": "ipython",
    "version": 3
   },
   "file_extension": ".py",
   "mimetype": "text/x-python",
   "name": "python",
   "nbconvert_exporter": "python",
   "pygments_lexer": "ipython3",
   "version": "3.9.13"
  },
  "orig_nbformat": 4
 },
 "nbformat": 4,
 "nbformat_minor": 2
}
