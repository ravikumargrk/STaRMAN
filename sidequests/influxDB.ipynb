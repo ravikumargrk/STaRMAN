{
 "cells": [
  {
   "cell_type": "code",
   "execution_count": 1,
   "metadata": {},
   "outputs": [],
   "source": [
    "IFD_TOKN = \"PPrBwtUvQCWRGBzfQa3TYgcuuFA9EYHJ7r3OKg4VhU9D1zM79oV07rBKxa_Hd-74TOzHKCTZK4S9SAypvo_VyA==\"\n",
    "IFD_ORGN = \"artica\"\n",
    "IFD_HOST = \"eu-central-1-1.aws.cloud2.influxdata.com\"\n",
    "IFD_ADDR = f\"https://{IFD_HOST}\"\n",
    "\n",
    "grafanaToken = \"HgPeKvrZrR75TnyDNPbkaMg2wMKRdX7wXPGttlI7-QUmei5dvfxXZD-tnHVpbSxXQNGUF2_U-o4z498qWMQLvw==\"\n",
    "\n",
    "import influxdb_client\n",
    "from influxdb_client.client.write_api import SYNCHRONOUS\n",
    "\n",
    "client = influxdb_client.InfluxDBClient(\n",
    "   url=IFD_ADDR,\n",
    "   token=IFD_TOKN,\n",
    "   org=IFD_ORGN\n",
    ")\n",
    "\n",
    "write_api = client.write_api(write_options=SYNCHRONOUS)"
   ]
  },
  {
   "cell_type": "code",
   "execution_count": 2,
   "metadata": {},
   "outputs": [],
   "source": [
    "# 2023-03-18 17:37:40.807603965\n",
    "# 2023-03-18 17:37:46.291760032"
   ]
  },
  {
   "cell_type": "code",
   "execution_count": 3,
   "metadata": {},
   "outputs": [],
   "source": [
    "# fields --> standardTag\n",
    "# measurement --> order-data-1"
   ]
  },
  {
   "cell_type": "code",
   "execution_count": 4,
   "metadata": {},
   "outputs": [],
   "source": [
    "import pandas as pd\n",
    "dataDf = pd.read_excel('DATA.xlsx')\n",
    "\n",
    "record1 = dataDf.to_dict(orient='records')[0]\n",
    "\n",
    "record1 = {key:record1[key] for key in record1 if key != 'time'}"
   ]
  },
  {
   "cell_type": "code",
   "execution_count": 5,
   "metadata": {},
   "outputs": [
    {
     "data": {
      "text/plain": [
       "{'measurement': 'orderId1',\n",
       " 'fields': {'PT2_7_SCALE_PV': 13.59,\n",
       "  'TOTALISE_FUEL_FLOW': 47432.05,\n",
       "  'TOTAL_STEAM': 424826.47,\n",
       "  'TE1_5_SCALE_PV': 103.0}}"
      ]
     },
     "execution_count": 5,
     "metadata": {},
     "output_type": "execute_result"
    }
   ],
   "source": [
    "data = {\n",
    "    'measurement': 'orderId1',\n",
    "    'fields'     : record1\n",
    "}\n",
    "\n",
    "data"
   ]
  },
  {
   "cell_type": "code",
   "execution_count": 6,
   "metadata": {},
   "outputs": [],
   "source": [
    "# write_api.write(\n",
    "#     'site-data',\n",
    "#     IFD_ORGN,\n",
    "#     [data]\n",
    "# )"
   ]
  },
  {
   "cell_type": "code",
   "execution_count": 21,
   "metadata": {},
   "outputs": [],
   "source": [
    "query_api = client.query_api()\n",
    "\n",
    "import warnings\n",
    "from influxdb_client.client.warnings import MissingPivotFunction\n",
    "warnings.simplefilter(\"ignore\", MissingPivotFunction)"
   ]
  },
  {
   "cell_type": "code",
   "execution_count": 30,
   "metadata": {},
   "outputs": [
    {
     "data": {
      "text/html": [
       "<div>\n",
       "<style scoped>\n",
       "    .dataframe tbody tr th:only-of-type {\n",
       "        vertical-align: middle;\n",
       "    }\n",
       "\n",
       "    .dataframe tbody tr th {\n",
       "        vertical-align: top;\n",
       "    }\n",
       "\n",
       "    .dataframe thead th {\n",
       "        text-align: right;\n",
       "    }\n",
       "</style>\n",
       "<table border=\"1\" class=\"dataframe\">\n",
       "  <thead>\n",
       "    <tr style=\"text-align: right;\">\n",
       "      <th></th>\n",
       "      <th>result</th>\n",
       "      <th>table</th>\n",
       "      <th>_value</th>\n",
       "    </tr>\n",
       "  </thead>\n",
       "  <tbody>\n",
       "    <tr>\n",
       "      <th>0</th>\n",
       "      <td>_result</td>\n",
       "      <td>0</td>\n",
       "      <td>orderId1</td>\n",
       "    </tr>\n",
       "  </tbody>\n",
       "</table>\n",
       "</div>"
      ],
      "text/plain": [
       "    result  table    _value\n",
       "0  _result      0  orderId1"
      ]
     },
     "execution_count": 30,
     "metadata": {},
     "output_type": "execute_result"
    }
   ],
   "source": [
    "# list measurements/tables in a bucket\n",
    "\n",
    "query = \"\"\"\n",
    "import \"influxdata/influxdb/schema\"\n",
    "schema.measurements(bucket: \"site-data\")\n",
    "\"\"\"\n",
    "\n",
    "query_api.query_data_frame(query)"
   ]
  },
  {
   "cell_type": "code",
   "execution_count": 36,
   "metadata": {},
   "outputs": [
    {
     "data": {
      "text/html": [
       "<div>\n",
       "<style scoped>\n",
       "    .dataframe tbody tr th:only-of-type {\n",
       "        vertical-align: middle;\n",
       "    }\n",
       "\n",
       "    .dataframe tbody tr th {\n",
       "        vertical-align: top;\n",
       "    }\n",
       "\n",
       "    .dataframe thead th {\n",
       "        text-align: right;\n",
       "    }\n",
       "</style>\n",
       "<table border=\"1\" class=\"dataframe\">\n",
       "  <thead>\n",
       "    <tr style=\"text-align: right;\">\n",
       "      <th></th>\n",
       "      <th>result</th>\n",
       "      <th>table</th>\n",
       "      <th>_value</th>\n",
       "    </tr>\n",
       "  </thead>\n",
       "  <tbody>\n",
       "    <tr>\n",
       "      <th>0</th>\n",
       "      <td>_result</td>\n",
       "      <td>0</td>\n",
       "      <td>PT2_7_SCALE_PV</td>\n",
       "    </tr>\n",
       "    <tr>\n",
       "      <th>1</th>\n",
       "      <td>_result</td>\n",
       "      <td>0</td>\n",
       "      <td>TE1_5_SCALE_PV</td>\n",
       "    </tr>\n",
       "    <tr>\n",
       "      <th>2</th>\n",
       "      <td>_result</td>\n",
       "      <td>0</td>\n",
       "      <td>TOTALISE_FUEL_FLOW</td>\n",
       "    </tr>\n",
       "    <tr>\n",
       "      <th>3</th>\n",
       "      <td>_result</td>\n",
       "      <td>0</td>\n",
       "      <td>TOTAL_STEAM</td>\n",
       "    </tr>\n",
       "  </tbody>\n",
       "</table>\n",
       "</div>"
      ],
      "text/plain": [
       "    result  table              _value\n",
       "0  _result      0      PT2_7_SCALE_PV\n",
       "1  _result      0      TE1_5_SCALE_PV\n",
       "2  _result      0  TOTALISE_FUEL_FLOW\n",
       "3  _result      0         TOTAL_STEAM"
      ]
     },
     "execution_count": 36,
     "metadata": {},
     "output_type": "execute_result"
    }
   ],
   "source": [
    "# list fields in a bucket (so table ain't shit)\n",
    "query = \"\"\"\n",
    "import \"influxdata/influxdb/schema\"\n",
    "schema.fieldKeys(bucket: \"site-data\")\n",
    "\"\"\"\n",
    "\n",
    "query_api.query_data_frame(query)"
   ]
  },
  {
   "cell_type": "code",
   "execution_count": 37,
   "metadata": {},
   "outputs": [
    {
     "data": {
      "text/html": [
       "<div>\n",
       "<style scoped>\n",
       "    .dataframe tbody tr th:only-of-type {\n",
       "        vertical-align: middle;\n",
       "    }\n",
       "\n",
       "    .dataframe tbody tr th {\n",
       "        vertical-align: top;\n",
       "    }\n",
       "\n",
       "    .dataframe thead th {\n",
       "        text-align: right;\n",
       "    }\n",
       "</style>\n",
       "<table border=\"1\" class=\"dataframe\">\n",
       "  <thead>\n",
       "    <tr style=\"text-align: right;\">\n",
       "      <th></th>\n",
       "      <th>result</th>\n",
       "      <th>table</th>\n",
       "      <th>_value</th>\n",
       "    </tr>\n",
       "  </thead>\n",
       "  <tbody>\n",
       "    <tr>\n",
       "      <th>0</th>\n",
       "      <td>_result</td>\n",
       "      <td>0</td>\n",
       "      <td>PT2_7_SCALE_PV</td>\n",
       "    </tr>\n",
       "    <tr>\n",
       "      <th>1</th>\n",
       "      <td>_result</td>\n",
       "      <td>0</td>\n",
       "      <td>TE1_5_SCALE_PV</td>\n",
       "    </tr>\n",
       "    <tr>\n",
       "      <th>2</th>\n",
       "      <td>_result</td>\n",
       "      <td>0</td>\n",
       "      <td>TOTALISE_FUEL_FLOW</td>\n",
       "    </tr>\n",
       "    <tr>\n",
       "      <th>3</th>\n",
       "      <td>_result</td>\n",
       "      <td>0</td>\n",
       "      <td>TOTAL_STEAM</td>\n",
       "    </tr>\n",
       "  </tbody>\n",
       "</table>\n",
       "</div>"
      ],
      "text/plain": [
       "    result  table              _value\n",
       "0  _result      0      PT2_7_SCALE_PV\n",
       "1  _result      0      TE1_5_SCALE_PV\n",
       "2  _result      0  TOTALISE_FUEL_FLOW\n",
       "3  _result      0         TOTAL_STEAM"
      ]
     },
     "execution_count": 37,
     "metadata": {},
     "output_type": "execute_result"
    }
   ],
   "source": [
    "# list fields in a bucket and in a measurement\n",
    "query = \"\"\"\n",
    "import \"influxdata/influxdb/schema\"\n",
    "schema.measurementFieldKeys(bucket: \"site-data\", measurement: \"orderId1\")\n",
    "\"\"\"\n",
    "\n",
    "query_api.query_data_frame(query)"
   ]
  },
  {
   "cell_type": "code",
   "execution_count": 34,
   "metadata": {},
   "outputs": [
    {
     "data": {
      "text/html": [
       "<div>\n",
       "<style scoped>\n",
       "    .dataframe tbody tr th:only-of-type {\n",
       "        vertical-align: middle;\n",
       "    }\n",
       "\n",
       "    .dataframe tbody tr th {\n",
       "        vertical-align: top;\n",
       "    }\n",
       "\n",
       "    .dataframe thead th {\n",
       "        text-align: right;\n",
       "    }\n",
       "</style>\n",
       "<table border=\"1\" class=\"dataframe\">\n",
       "  <thead>\n",
       "    <tr style=\"text-align: right;\">\n",
       "      <th></th>\n",
       "      <th>result</th>\n",
       "      <th>table</th>\n",
       "      <th>_start</th>\n",
       "      <th>_stop</th>\n",
       "      <th>_time</th>\n",
       "      <th>_value</th>\n",
       "      <th>_field</th>\n",
       "      <th>_measurement</th>\n",
       "    </tr>\n",
       "  </thead>\n",
       "  <tbody>\n",
       "    <tr>\n",
       "      <th>0</th>\n",
       "      <td>_result</td>\n",
       "      <td>0</td>\n",
       "      <td>2023-02-19 09:09:13.458655+00:00</td>\n",
       "      <td>2023-03-21 09:09:13.458655+00:00</td>\n",
       "      <td>2023-03-19 20:13:44.290982+00:00</td>\n",
       "      <td>13.59</td>\n",
       "      <td>PT2_7_SCALE_PV</td>\n",
       "      <td>orderId1</td>\n",
       "    </tr>\n",
       "    <tr>\n",
       "      <th>1</th>\n",
       "      <td>_result</td>\n",
       "      <td>1</td>\n",
       "      <td>2023-02-19 09:09:13.458655+00:00</td>\n",
       "      <td>2023-03-21 09:09:13.458655+00:00</td>\n",
       "      <td>2023-03-19 20:13:44.290982+00:00</td>\n",
       "      <td>103.00</td>\n",
       "      <td>TE1_5_SCALE_PV</td>\n",
       "      <td>orderId1</td>\n",
       "    </tr>\n",
       "    <tr>\n",
       "      <th>2</th>\n",
       "      <td>_result</td>\n",
       "      <td>2</td>\n",
       "      <td>2023-02-19 09:09:13.458655+00:00</td>\n",
       "      <td>2023-03-21 09:09:13.458655+00:00</td>\n",
       "      <td>2023-03-19 20:13:44.290982+00:00</td>\n",
       "      <td>47432.05</td>\n",
       "      <td>TOTALISE_FUEL_FLOW</td>\n",
       "      <td>orderId1</td>\n",
       "    </tr>\n",
       "    <tr>\n",
       "      <th>3</th>\n",
       "      <td>_result</td>\n",
       "      <td>3</td>\n",
       "      <td>2023-02-19 09:09:13.458655+00:00</td>\n",
       "      <td>2023-03-21 09:09:13.458655+00:00</td>\n",
       "      <td>2023-03-19 20:13:44.290982+00:00</td>\n",
       "      <td>424826.47</td>\n",
       "      <td>TOTAL_STEAM</td>\n",
       "      <td>orderId1</td>\n",
       "    </tr>\n",
       "  </tbody>\n",
       "</table>\n",
       "</div>"
      ],
      "text/plain": [
       "    result  table                           _start  \\\n",
       "0  _result      0 2023-02-19 09:09:13.458655+00:00   \n",
       "1  _result      1 2023-02-19 09:09:13.458655+00:00   \n",
       "2  _result      2 2023-02-19 09:09:13.458655+00:00   \n",
       "3  _result      3 2023-02-19 09:09:13.458655+00:00   \n",
       "\n",
       "                             _stop                            _time  \\\n",
       "0 2023-03-21 09:09:13.458655+00:00 2023-03-19 20:13:44.290982+00:00   \n",
       "1 2023-03-21 09:09:13.458655+00:00 2023-03-19 20:13:44.290982+00:00   \n",
       "2 2023-03-21 09:09:13.458655+00:00 2023-03-19 20:13:44.290982+00:00   \n",
       "3 2023-03-21 09:09:13.458655+00:00 2023-03-19 20:13:44.290982+00:00   \n",
       "\n",
       "      _value              _field _measurement  \n",
       "0      13.59      PT2_7_SCALE_PV     orderId1  \n",
       "1     103.00      TE1_5_SCALE_PV     orderId1  \n",
       "2   47432.05  TOTALISE_FUEL_FLOW     orderId1  \n",
       "3  424826.47         TOTAL_STEAM     orderId1  "
      ]
     },
     "execution_count": 34,
     "metadata": {},
     "output_type": "execute_result"
    }
   ],
   "source": [
    "# get all values\n",
    "query = \"\"\"\n",
    "from(bucket: \"site-data\")\n",
    "  |> range(start: -30d)\n",
    "\"\"\"\n",
    "\n",
    "query_api.query_data_frame(query)"
   ]
  },
  {
   "cell_type": "code",
   "execution_count": null,
   "metadata": {},
   "outputs": [],
   "source": []
  }
 ],
 "metadata": {
  "kernelspec": {
   "display_name": "Python 3",
   "language": "python",
   "name": "python3"
  },
  "language_info": {
   "codemirror_mode": {
    "name": "ipython",
    "version": 3
   },
   "file_extension": ".py",
   "mimetype": "text/x-python",
   "name": "python",
   "nbconvert_exporter": "python",
   "pygments_lexer": "ipython3",
   "version": "3.10.4"
  },
  "orig_nbformat": 4
 },
 "nbformat": 4,
 "nbformat_minor": 2
}
