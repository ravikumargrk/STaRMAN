{
 "cells": [
  {
   "cell_type": "code",
   "execution_count": 12,
   "metadata": {},
   "outputs": [],
   "source": [
    "import influxdb_client, os, time\n",
    "from influxdb_client import InfluxDBClient, Point, WritePrecision\n",
    "from influxdb_client.client.write_api import SYNCHRONOUS\n",
    "\n",
    "token = \"PPrBwtUvQCWRGBzfQa3TYgcuuFA9EYHJ7r3OKg4VhU9D1zM79oV07rBKxa_Hd-74TOzHKCTZK4S9SAypvo_VyA==\"\n",
    "org = \"artica\"\n",
    "url = \"https://eu-central-1-1.aws.cloud2.influxdata.com\"\n",
    "host = \"eu-central-1-1.aws.cloud2.influxdata.com\"\n",
    "\n",
    "write_client = influxdb_client.InfluxDBClient(url=url, token=token, org=org)\n",
    "write_api = write_client.write_api(write_options=SYNCHRONOUS)\n",
    "bucket=\"site-data\""
   ]
  },
  {
   "cell_type": "code",
   "execution_count": 6,
   "metadata": {},
   "outputs": [
    {
     "name": "stdout",
     "output_type": "stream",
     "text": [
      "Complete. Return to the InfluxDB UI.\n"
     ]
    }
   ],
   "source": [
    "# Define the write api\n",
    "\n",
    "data = {\n",
    "  \"point1\": {\n",
    "    \"location\": \"Klamath\",\n",
    "    \"species\": \"bees\",\n",
    "    \"count\": 23,\n",
    "  },\n",
    "  \"point2\": {\n",
    "    \"location\": \"Portland\",\n",
    "    \"species\": \"ants\",\n",
    "    \"count\": 30,\n",
    "  },\n",
    "  \"point3\": {\n",
    "    \"location\": \"Klamath\",\n",
    "    \"species\": \"bees\",\n",
    "    \"count\": 28,\n",
    "  },\n",
    "  \"point4\": {\n",
    "    \"location\": \"Portland\",\n",
    "    \"species\": \"ants\",\n",
    "    \"count\": 32,\n",
    "  },\n",
    "  \"point5\": {\n",
    "    \"location\": \"Klamath\",\n",
    "    \"species\": \"bees\",\n",
    "    \"count\": 29,\n",
    "  },\n",
    "  \"point6\": {\n",
    "    \"location\": \"Portland\",\n",
    "    \"species\": \"ants\",\n",
    "    \"count\": 40,\n",
    "  },\n",
    "}\n",
    "\n",
    "for key in data:\n",
    "  point = (\n",
    "    Point(\"census\")\n",
    "    .tag(\"location\", data[key][\"location\"])\n",
    "    .field(data[key][\"species\"], data[key][\"count\"])\n",
    "  )\n",
    "  write_api.write(bucket=bucket, org=org, record=point)\n",
    "  time.sleep(1) # separate points by 1 second\n",
    "\n",
    "print(\"Complete. Return to the InfluxDB UI.\")"
   ]
  },
  {
   "cell_type": "code",
   "execution_count": null,
   "metadata": {},
   "outputs": [],
   "source": []
  },
  {
   "cell_type": "code",
   "execution_count": 16,
   "metadata": {},
   "outputs": [
    {
     "ename": "ArrowInvalid",
     "evalue": "Flight returned invalid argument error, with message: Error while planning query: Error during planning: table 'public.iox.census' not found",
     "output_type": "error",
     "traceback": [
      "\u001b[0;31m---------------------------------------------------------------------------\u001b[0m",
      "\u001b[0;31mArrowInvalid\u001b[0m                              Traceback (most recent call last)",
      "Cell \u001b[0;32mIn[16], line 13\u001b[0m\n\u001b[1;32m      6\u001b[0m query_client \u001b[39m=\u001b[39m FlightSQLClient(\n\u001b[1;32m      7\u001b[0m     host \u001b[39m=\u001b[39m host,\n\u001b[1;32m      8\u001b[0m     token \u001b[39m=\u001b[39m token,\n\u001b[1;32m      9\u001b[0m     metadata\u001b[39m=\u001b[39m{\u001b[39m\"\u001b[39m\u001b[39mbucket-name\u001b[39m\u001b[39m\"\u001b[39m: \u001b[39m\"\u001b[39m\u001b[39msite-data\u001b[39m\u001b[39m\"\u001b[39m}\n\u001b[1;32m     10\u001b[0m )\n\u001b[1;32m     12\u001b[0m \u001b[39m# Execute the query\u001b[39;00m\n\u001b[0;32m---> 13\u001b[0m info \u001b[39m=\u001b[39m query_client\u001b[39m.\u001b[39;49mexecute(query)\n\u001b[1;32m     14\u001b[0m reader \u001b[39m=\u001b[39m query_client\u001b[39m.\u001b[39mdo_get(info\u001b[39m.\u001b[39mendpoints[\u001b[39m0\u001b[39m]\u001b[39m.\u001b[39mticket)\n\u001b[1;32m     16\u001b[0m \u001b[39m# Convert to dataframe\u001b[39;00m\n",
      "File \u001b[0;32m~/.python/current/lib/python3.10/site-packages/flightsql/client.py:123\u001b[0m, in \u001b[0;36mFlightSQLClient.execute\u001b[0;34m(self, query, call_options)\u001b[0m\n\u001b[1;32m    118\u001b[0m \u001b[39mdef\u001b[39;00m \u001b[39mexecute\u001b[39m(\u001b[39mself\u001b[39m, query: \u001b[39mstr\u001b[39m, call_options: Optional[FlightSQLCallOptions] \u001b[39m=\u001b[39m \u001b[39mNone\u001b[39;00m):\n\u001b[1;32m    119\u001b[0m \u001b[39m    \u001b[39m\u001b[39m\"\"\"\u001b[39;00m\n\u001b[1;32m    120\u001b[0m \u001b[39m    Execute a query. Returns a `flight.FlightInfo` object to specify the\u001b[39;00m\n\u001b[1;32m    121\u001b[0m \u001b[39m    retrieval location for Arrow data.\u001b[39;00m\n\u001b[1;32m    122\u001b[0m \u001b[39m    \"\"\"\u001b[39;00m\n\u001b[0;32m--> 123\u001b[0m     \u001b[39mreturn\u001b[39;00m \u001b[39mself\u001b[39;49m\u001b[39m.\u001b[39;49m_get_flight_info(flightsql\u001b[39m.\u001b[39;49mCommandStatementQuery(query\u001b[39m=\u001b[39;49mquery), call_options)\n",
      "File \u001b[0;32m~/.python/current/lib/python3.10/site-packages/flightsql/util.py:8\u001b[0m, in \u001b[0;36mcheck_closed.<locals>.g\u001b[0;34m(self, *args, **kwargs)\u001b[0m\n\u001b[1;32m      6\u001b[0m \u001b[39mif\u001b[39;00m \u001b[39mself\u001b[39m\u001b[39m.\u001b[39mclosed:\n\u001b[1;32m      7\u001b[0m     \u001b[39mraise\u001b[39;00m Error(\u001b[39mf\u001b[39m\u001b[39m\"\u001b[39m\u001b[39m{\u001b[39;00m\u001b[39mself\u001b[39m\u001b[39m.\u001b[39m\u001b[39m__class__\u001b[39m\u001b[39m.\u001b[39m\u001b[39m__name__\u001b[39m\u001b[39m}\u001b[39;00m\u001b[39m already closed\u001b[39m\u001b[39m\"\u001b[39m)\n\u001b[0;32m----> 8\u001b[0m \u001b[39mreturn\u001b[39;00m f(\u001b[39mself\u001b[39;49m, \u001b[39m*\u001b[39;49margs, \u001b[39m*\u001b[39;49m\u001b[39m*\u001b[39;49mkwargs)\n",
      "File \u001b[0;32m~/.python/current/lib/python3.10/site-packages/flightsql/client.py:293\u001b[0m, in \u001b[0;36mFlightSQLClient._get_flight_info\u001b[0;34m(self, command, call_options)\u001b[0m\n\u001b[1;32m    290\u001b[0m \u001b[39m@check_closed\u001b[39m\n\u001b[1;32m    291\u001b[0m \u001b[39mdef\u001b[39;00m \u001b[39m_get_flight_info\u001b[39m(\u001b[39mself\u001b[39m, command, call_options: Optional[FlightSQLCallOptions] \u001b[39m=\u001b[39m \u001b[39mNone\u001b[39;00m):\n\u001b[1;32m    292\u001b[0m     options \u001b[39m=\u001b[39m \u001b[39mself\u001b[39m\u001b[39m.\u001b[39m_flight_call_options(call_options)\n\u001b[0;32m--> 293\u001b[0m     \u001b[39mreturn\u001b[39;00m \u001b[39mself\u001b[39;49m\u001b[39m.\u001b[39;49mclient\u001b[39m.\u001b[39;49mget_flight_info(flight_descriptor(command), options)\n",
      "File \u001b[0;32m~/.python/current/lib/python3.10/site-packages/pyarrow/_flight.pyx:1506\u001b[0m, in \u001b[0;36mpyarrow._flight.FlightClient.get_flight_info\u001b[0;34m()\u001b[0m\n",
      "File \u001b[0;32m~/.python/current/lib/python3.10/site-packages/pyarrow/_flight.pyx:81\u001b[0m, in \u001b[0;36mpyarrow._flight.check_flight_status\u001b[0;34m()\u001b[0m\n",
      "File \u001b[0;32m~/.python/current/lib/python3.10/site-packages/pyarrow/error.pxi:100\u001b[0m, in \u001b[0;36mpyarrow.lib.check_status\u001b[0;34m()\u001b[0m\n",
      "\u001b[0;31mArrowInvalid\u001b[0m: Flight returned invalid argument error, with message: Error while planning query: Error during planning: table 'public.iox.census' not found"
     ]
    }
   ],
   "source": [
    "from flightsql import FlightSQLClient\n",
    "\n",
    "query = \"\"\"SELECT * FROM 'census'\"\"\"\n",
    "\n",
    "# Define the query client\n",
    "query_client = FlightSQLClient(\n",
    "    host = host,\n",
    "    token = token,\n",
    "    metadata={\"bucket-name\": \"site-data\"}\n",
    ")\n",
    "\n",
    "# Execute the query\n",
    "info = query_client.execute(query)\n",
    "reader = query_client.do_get(info.endpoints[0].ticket)\n",
    "\n",
    "# Convert to dataframe\n",
    "data = reader.read_all()\n",
    "df = data.to_pandas().sort_values(by=\"time\")\n",
    "df"
   ]
  },
  {
   "cell_type": "code",
   "execution_count": null,
   "metadata": {},
   "outputs": [],
   "source": []
  }
 ],
 "metadata": {
  "kernelspec": {
   "display_name": "Python 3",
   "language": "python",
   "name": "python3"
  },
  "language_info": {
   "codemirror_mode": {
    "name": "ipython",
    "version": 3
   },
   "file_extension": ".py",
   "mimetype": "text/x-python",
   "name": "python",
   "nbconvert_exporter": "python",
   "pygments_lexer": "ipython3",
   "version": "3.10.4"
  },
  "orig_nbformat": 4
 },
 "nbformat": 4,
 "nbformat_minor": 2
}
