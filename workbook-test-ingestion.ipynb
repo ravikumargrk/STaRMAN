{
 "cells": [
  {
   "cell_type": "code",
   "execution_count": 29,
   "metadata": {},
   "outputs": [
    {
     "name": "stdout",
     "output_type": "stream",
     "text": [
      "{'orderId': 0, 'TIME': '12/03/2023 17:17:08', 'key1': 'value1', 'key2': 'value2'}\n"
     ]
    }
   ],
   "source": [
    "import requests\n",
    "from datetime import datetime\n",
    "import time\n",
    "response = requests.get('https://testdockerflask-mucvbrxuxq-uc.a.run.app/ingestion')\n",
    "responseDict = response.json()\n",
    "\n",
    "print(responseDict['schema'])"
   ]
  },
  {
   "cell_type": "code",
   "execution_count": 1,
   "metadata": {},
   "outputs": [],
   "source": [
    "from resources import ingest"
   ]
  },
  {
   "cell_type": "code",
   "execution_count": 30,
   "metadata": {},
   "outputs": [],
   "source": [
    "import pandas as pd\n",
    "EWON_TIME_FORMAT = '%d/%m/%Y %H:%M:%S'\n",
    "\n",
    "dataDf = pd.read_excel('sidequests/DATA.xlsx')\n",
    "dataDf = dataDf.drop(columns=['time'])"
   ]
  },
  {
   "cell_type": "code",
   "execution_count": 31,
   "metadata": {},
   "outputs": [],
   "source": [
    "dataList = dataDf.to_dict(orient='records')"
   ]
  },
  {
   "cell_type": "code",
   "execution_count": 32,
   "metadata": {},
   "outputs": [
    {
     "data": {
      "text/plain": [
       "{'orderId': 1,\n",
       " 'TIME': '12/03/2023 22:50:56',\n",
       " 'PT2_7_SCALE_PV': 13.59,\n",
       " 'TOTALISE_FUEL_FLOW': 47432.05,\n",
       " 'TOTAL_STEAM': 424826.47,\n",
       " 'TE1_5_SCALE_PV': 103.0}"
      ]
     },
     "execution_count": 32,
     "metadata": {},
     "output_type": "execute_result"
    }
   ],
   "source": [
    "payload = {\n",
    "    'orderId': 1,\n",
    "    'TIME': datetime.now().strftime(EWON_TIME_FORMAT),\n",
    "}\n",
    "payload.update(dataList[0])\n",
    "\n",
    "payload"
   ]
  },
  {
   "cell_type": "code",
   "execution_count": 33,
   "metadata": {},
   "outputs": [],
   "source": [
    "response = requests.post('https://testdockerflask-mucvbrxuxq-uc.a.run.app/ingestion', json=payload)"
   ]
  },
  {
   "cell_type": "code",
   "execution_count": 23,
   "metadata": {},
   "outputs": [],
   "source": [
    "with open('response.html', 'w') as f:\n",
    "    f.write(response.text)"
   ]
  },
  {
   "cell_type": "code",
   "execution_count": 34,
   "metadata": {},
   "outputs": [],
   "source": [
    "responseDict = response.json()"
   ]
  },
  {
   "cell_type": "code",
   "execution_count": 35,
   "metadata": {},
   "outputs": [
    {
     "data": {
      "text/plain": [
       "{'log': '',\n",
       " 'status': True,\n",
       " 'data': \"{'BOILR1_INN_WATER_TEMP1': 376.15, 'BOILR1_MID_DRUMX_PRSS1': 1332723.735, 'FURNC1_INN_FUELS_TOTZ1': 47432050.0, 'FWTNK1_OUT_WATER_TEMP1': 376.15, 'PROSS1_INN_STEAM_PRSS1': 1332723.735, 'PROSS1_INN_STEAM_TOTZ1': 424826470.0, 't': datetime.datetime(2023, 3, 12, 17, 20, 56)}\"}"
      ]
     },
     "execution_count": 35,
     "metadata": {},
     "output_type": "execute_result"
    }
   ],
   "source": [
    "responseDict"
   ]
  },
  {
   "cell_type": "code",
   "execution_count": null,
   "metadata": {},
   "outputs": [],
   "source": [
    "response = requests.post('https://testdockerflask-mucvbrxuxq-uc.a.run.app/ingestion', json=payload)\n",
    "responseDict = response.json()\n",
    "\n",
    "print(responseDict['log'])"
   ]
  },
  {
   "cell_type": "code",
   "execution_count": 30,
   "metadata": {},
   "outputs": [
    {
     "name": "stdout",
     "output_type": "stream",
     "text": [
      "\n",
      "Traceback (most recent call last):\n",
      "  File \"/usr/local/lib/python3.10/site-packages/flask/app.py\", line 2551, in __call__\n",
      "    return self.wsgi_app(environ, start_response)\n",
      "  File \"/usr/local/lib/python3.10/site-packages/flask/app.py\", line 2531, in wsgi_app\n",
      "    response = self.handle_exception(e)\n",
      "  File \"/usr/local/lib/python3.10/site-packages/flask_restful/__init__.py\", line 271, in error_router\n",
      "    return original_handler(e)\n",
      "  File \"/usr/local/lib/python3.10/site-packages/flask/app.py\", line 2528, in wsgi_app\n",
      "    response = self.full_dispatch_request()\n",
      "  File \"/usr/local/lib/python3.10/site-packages/flask/app.py\", line 1825, in full_dispatch_request\n",
      "    rv = self.handle_user_exception(e)\n",
      "  File \"/usr/local/lib/python3.10/site-packages/flask_restful/__init__.py\", line 271, in error_router\n",
      "    return original_handler(e)\n",
      "  File \"/usr/local/lib/python3.10/site-packages/flask/app.py\", line 1823, in full_dispatch_request\n",
      "    rv = self.dispatch_request()\n",
      "  File \"/usr/local/lib/python3.10/site-packages/flask/app.py\", line 1799, in dispatch_request\n",
      "    return self.ensure_sync(self.view_functions[rule.endpoint])(**view_args)\n",
      "  File \"/usr/local/lib/python3.10/site-packages/flask_restful/__init__.py\", line 467, in wrapper\n",
      "    resp = resource(*args, **kwargs)\n",
      "  File \"/usr/local/lib/python3.10/site-packages/flask/views.py\", line 107, in view\n",
      "    return current_app.ensure_sync(self.dispatch_request)(**kwargs)\n",
      "  File \"/usr/local/lib/python3.10/site-packages/flask_restful/__init__.py\", line 582, in dispatch_request\n",
      "    resp = meth(*args, **kwargs)\n",
      "  File \"/app/app.py\", line 52, in post\n",
      "    timeZonesByOrderId = result['timeZonesByOrderId']\n",
      "KeyError: 'timeZonesByOrderId'\n",
      "\n",
      "\n"
     ]
    }
   ],
   "source": [
    "err = \"\"\"\n",
    "Traceback (most recent call last):\n",
    "  File \"/usr/local/lib/python3.10/site-packages/flask/app.py\", line 2551, in __call__\n",
    "    return self.wsgi_app(environ, start_response)\n",
    "  File \"/usr/local/lib/python3.10/site-packages/flask/app.py\", line 2531, in wsgi_app\n",
    "    response = self.handle_exception(e)\n",
    "  File \"/usr/local/lib/python3.10/site-packages/flask_restful/__init__.py\", line 271, in error_router\n",
    "    return original_handler(e)\n",
    "  File \"/usr/local/lib/python3.10/site-packages/flask/app.py\", line 2528, in wsgi_app\n",
    "    response = self.full_dispatch_request()\n",
    "  File \"/usr/local/lib/python3.10/site-packages/flask/app.py\", line 1825, in full_dispatch_request\n",
    "    rv = self.handle_user_exception(e)\n",
    "  File \"/usr/local/lib/python3.10/site-packages/flask_restful/__init__.py\", line 271, in error_router\n",
    "    return original_handler(e)\n",
    "  File \"/usr/local/lib/python3.10/site-packages/flask/app.py\", line 1823, in full_dispatch_request\n",
    "    rv = self.dispatch_request()\n",
    "  File \"/usr/local/lib/python3.10/site-packages/flask/app.py\", line 1799, in dispatch_request\n",
    "    return self.ensure_sync(self.view_functions[rule.endpoint])(**view_args)\n",
    "  File \"/usr/local/lib/python3.10/site-packages/flask_restful/__init__.py\", line 467, in wrapper\n",
    "    resp = resource(*args, **kwargs)\n",
    "  File \"/usr/local/lib/python3.10/site-packages/flask/views.py\", line 107, in view\n",
    "    return current_app.ensure_sync(self.dispatch_request)(**kwargs)\n",
    "  File \"/usr/local/lib/python3.10/site-packages/flask_restful/__init__.py\", line 582, in dispatch_request\n",
    "    resp = meth(*args, **kwargs)\n",
    "  File \"/app/app.py\", line 52, in post\n",
    "    timeZonesByOrderId = result['timeZonesByOrderId']\n",
    "KeyError: 'timeZonesByOrderId'\n",
    "\n",
    "\"\"\"\n",
    "\n",
    "print(err)"
   ]
  },
  {
   "cell_type": "code",
   "execution_count": null,
   "metadata": {},
   "outputs": [],
   "source": []
  }
 ],
 "metadata": {
  "kernelspec": {
   "display_name": "python",
   "language": "python",
   "name": "python3"
  },
  "language_info": {
   "codemirror_mode": {
    "name": "ipython",
    "version": 3
   },
   "file_extension": ".py",
   "mimetype": "text/x-python",
   "name": "python",
   "nbconvert_exporter": "python",
   "pygments_lexer": "ipython3",
   "version": "3.9.13"
  },
  "orig_nbformat": 4
 },
 "nbformat": 4,
 "nbformat_minor": 2
}
