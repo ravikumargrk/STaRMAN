{
 "cells": [
  {
   "cell_type": "code",
   "execution_count": 19,
   "metadata": {},
   "outputs": [],
   "source": [
    "IFD_TOKN = \"PPrBwtUvQCWRGBzfQa3TYgcuuFA9EYHJ7r3OKg4VhU9D1zM79oV07rBKxa_Hd-74TOzHKCTZK4S9SAypvo_VyA==\"\n",
    "IFD_ORGN = \"artica\"\n",
    "IFD_HOST = \"eu-central-1-1.aws.cloud2.influxdata.com\"\n",
    "IFD_ADDR = f\"https://{IFD_HOST}\"\n",
    "\n",
    "grafanaToken = \"HgPeKvrZrR75TnyDNPbkaMg2wMKRdX7wXPGttlI7-QUmei5dvfxXZD-tnHVpbSxXQNGUF2_U-o4z498qWMQLvw==\"\n",
    "\n",
    "import influxdb_client\n",
    "from influxdb_client.client.write_api import SYNCHRONOUS\n",
    "\n",
    "client = influxdb_client.InfluxDBClient(\n",
    "   url=IFD_ADDR,\n",
    "   token=IFD_TOKN,\n",
    "   org=IFD_ORGN\n",
    ")\n",
    "\n",
    "write_api = client.write_api(write_options=SYNCHRONOUS)"
   ]
  },
  {
   "cell_type": "code",
   "execution_count": null,
   "metadata": {},
   "outputs": [],
   "source": [
    "# 2023-03-18 17:37:40.807603965\n",
    "# 2023-03-18 17:37:46.291760032"
   ]
  },
  {
   "cell_type": "code",
   "execution_count": null,
   "metadata": {},
   "outputs": [],
   "source": []
  },
  {
   "cell_type": "code",
   "execution_count": 24,
   "metadata": {},
   "outputs": [
    {
     "data": {
      "text/plain": [
       "{'checks': None,\n",
       " 'commit': None,\n",
       " 'message': 'Invalid value for `name`, must not be `None`',\n",
       " 'name': 'influxdb',\n",
       " 'status': 'fail',\n",
       " 'version': None}"
      ]
     },
     "execution_count": 24,
     "metadata": {},
     "output_type": "execute_result"
    }
   ],
   "source": [
    "client.health()"
   ]
  },
  {
   "cell_type": "code",
   "execution_count": null,
   "metadata": {},
   "outputs": [],
   "source": []
  }
 ],
 "metadata": {
  "kernelspec": {
   "display_name": "Python 3",
   "language": "python",
   "name": "python3"
  },
  "language_info": {
   "codemirror_mode": {
    "name": "ipython",
    "version": 3
   },
   "file_extension": ".py",
   "mimetype": "text/x-python",
   "name": "python",
   "nbconvert_exporter": "python",
   "pygments_lexer": "ipython3",
   "version": "3.10.4"
  },
  "orig_nbformat": 4
 },
 "nbformat": 4,
 "nbformat_minor": 2
}
